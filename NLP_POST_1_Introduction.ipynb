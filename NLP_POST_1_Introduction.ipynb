{
  "nbformat": 4,
  "nbformat_minor": 0,
  "metadata": {
    "colab": {
      "provenance": []
    },
    "kernelspec": {
      "name": "python3",
      "display_name": "Python 3"
    },
    "language_info": {
      "name": "python"
    }
  },
  "cells": [
    {
      "cell_type": "markdown",
      "source": [
        "#A Beginners Guide to NLP || Introduction and Brief History"
      ],
      "metadata": {
        "id": "8mUzga-65Mjs"
      }
    },
    {
      "cell_type": "markdown",
      "source": [
        "**POST 1**"
      ],
      "metadata": {
        "id": "JUDs4ShvBUt2"
      }
    },
    {
      "cell_type": "markdown",
      "source": [
        "I'm writing this to learn and share my new journey in **NLP** as a beginner. I'm going to write whatever I'm learning, so that experts and knowledgeable people can help me to correct myself, also, I think, the way I am going to present it ,any new learner like me will be able to learn and follow."
      ],
      "metadata": {
        "id": "iw7oeFhA5WDH"
      }
    },
    {
      "cell_type": "markdown",
      "source": [
        "## What is NLP?"
      ],
      "metadata": {
        "id": "iW3BUdMhFkIe"
      }
    },
    {
      "cell_type": "markdown",
      "source": [
        "NLP stands for Natural Language Processing. As the name itself suggests that, the goal of this new domain is to program computers to process and analyze large amounts of Natural Language data. Yes, your thinking is correct, here natural language means the language that we, humans, use to interact. This is another approach to improve human computer interaction. It allows machines to understand, interpret, and respond to human language in a way that feels more natural to us. Loosely speaking, we want to achieve that the day will come when a computer will talk with a human like we talk with our friends nowadays.  \n",
        "\n",
        "Caution! I am sorry to inform you that it will not be able to drink beer with us.\n"
      ],
      "metadata": {
        "id": "R6pa1Gp5BNLB"
      }
    },
    {
      "cell_type": "markdown",
      "source": [
        "I know, little by little, you are getting as curious as me. Once we know the potential applications of NLP, our interest will be doubled."
      ],
      "metadata": {
        "id": "BZO-O1KxBEZa"
      }
    },
    {
      "cell_type": "markdown",
      "source": [
        "## Why NLP is important? Why should one study NLP? How it is usuful to us?"
      ],
      "metadata": {
        "id": "Bt3mZ7WPFbav"
      }
    },
    {
      "cell_type": "markdown",
      "source": [
        "**Application 1:** NLP algorithms analyze the textual content of web pages, social media posts, or other digital content to extract meaning, identify topics, and understand the context. This analysis helps in placing relevant ads that align with the content and user interests.  \n",
        "\n",
        "\n",
        "**Application 2:** Email spam filtering and smart reply. Many of you have noticed that, nowadays when emails or message comes in your device, there some autoreply like \"Thank you\", \" I,ll call you latter\" etc. comes equipped with it and with a touch of your finger you can reply. Analyzing the text in the mail or message the NLP algorithm predicts the reply.  \n",
        "\n",
        "**Application 3:** Removing adult content in social media.  \n",
        "\n",
        "**Application 4:** In search engines NLP is used in various ways. One of the most fascinating is the voice-based searches i.e. we speak in the mic and the search engine automatically understands that and gives the search result.  \n",
        "There are many more applications.\n",
        "\n"
      ],
      "metadata": {
        "id": "ZC-kHyEYGWA_"
      }
    },
    {
      "cell_type": "markdown",
      "source": [
        "## Different Approaches to NLP  \n",
        "\n",
        "There are mainly three approaches to NLP, namely (1)Heuristic Method (2) ML Based Method (3) DL Based Method."
      ],
      "metadata": {
        "id": "YaR4pP9tG34A"
      }
    },
    {
      "cell_type": "markdown",
      "source": [
        "## How computer will understand our language?  \n"
      ],
      "metadata": {
        "id": "8GdtTKTrHJY_"
      }
    },
    {
      "cell_type": "markdown",
      "source": [
        "The main challenge here is that computer understands only numbers. Language is built by sequentially arranging meaningful words. So, how do we convert words into numbers?  \n",
        "In ML approach text is converted to numbers by one hot encoding for example { rat = [0 0 1 0 ............0], mat = [0 0 0 1 ..............0] etc.}. But this method has two significant drawbacks. One is that the size of the vector will be the number of words in the dictionary and this number is huge. Another, issue is that, as you can observe the vectors written above are orthogonal. There is no natural notion of similarity between those one hot vectors. (How to address this problem? I will discuss this idea in the upcoming post.) So, sequential information of a sentence is lost. So, deep learning is needed."
      ],
      "metadata": {
        "id": "zcvpsflpIOq7"
      }
    },
    {
      "cell_type": "markdown",
      "source": [
        "## Cleaver architectures to engineer the impossible look possible  \n",
        "Here are the stages of architectural marvel.\n",
        "RNN is used to handle sequential data. But, it can't perform well on sentences. To solve this issue LSTM is introduced. It has the advantage to retain information over longer sequences(memory). Then CNN came, it is particularly designed for image data. Then came the Transformers. It can put attention to specific part of a sentence. Then came the Autoencoders."
      ],
      "metadata": {
        "id": "3VvyX2c6IfgG"
      }
    }
  ]
}